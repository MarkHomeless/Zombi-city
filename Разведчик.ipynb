{
 "cells": [
  {
   "cell_type": "code",
   "execution_count": 3,
   "metadata": {},
   "outputs": [],
   "source": [
    "from paho.mqtt.client import Client\n",
    "import time\n",
    "import socket\n",
    "import random"
   ]
  },
  {
   "cell_type": "code",
   "execution_count": 4,
   "metadata": {},
   "outputs": [],
   "source": [
    "class Sender_MQTT:\n",
    "    def on_connect ( clinet, userdata, flags, rc):\n",
    "        self.subscribe(\"flowertest\")\n",
    "    def on_message(self, client, userdata, msg):\n",
    "        global message_payload\n",
    "        if (msg.topic == 'flowertest'):\n",
    "            message_payload  = msg.payload \n",
    "            print(msg.topic+\" \"+str(msg.payload))\n",
    "    def __init__(self):\n",
    "        self.client = Client()\n",
    "        self.client.on_connect = self.on_connect\n",
    "        self.client.on_message = self.on_message\n",
    "        self.client.username_pw_set(\"njelhmbg\",\"FLLRBnPB4UiD\")\n",
    "        self.client.connect(\"hairdresser.cloudmqtt.com\", 16008,60)\n",
    "    def send(self, msg):\n",
    "        self.client.publish('flowertest', msg)"
   ]
  },
  {
   "cell_type": "code",
   "execution_count": 5,
   "metadata": {},
   "outputs": [],
   "source": [
    "class Sender_SOCKET:\n",
    "    def __init__(self):\n",
    "        pass\n",
    "    def send(self, message):\n",
    "        #self.sock.settimeout(2)\n",
    "        try:\n",
    "            self.sock = socket.create_connection(('127.0.0.1', 5001), 5)\n",
    "            self.sock.sendall(message.encode('utf8'))\n",
    "        except socket.timeout:\n",
    "            print('send data timeout')\n",
    "        except socket.error as ex:\n",
    "            print('send data error: {}'.format(ex))\n",
    "    def close():\n",
    "        self.sock.close()"
   ]
  },
  {
   "cell_type": "code",
   "execution_count": 12,
   "metadata": {},
   "outputs": [],
   "source": [
    "from tkinter import *\n",
    " \n",
    "states = [(\"ON\", 'green'), (\"OFF\", 'gray'), (\"OPEN\", 'blue'), (\"CLOSE\", 'red')]\n",
    "sender = Sender_SOCKET()\n",
    "def command_button():\n",
    "    sender.send(state.get())\n",
    "    \n",
    "root = Tk()\n",
    "root.title(\"Sending message about zombi atack\")\n",
    "root.geometry(\"500x250\")\n",
    "\n",
    "header = Label(\n",
    "    text=\"Select on of the suggested messages to send\", \n",
    "    font = ('Showcard Gothic', 13),\n",
    "    padx=15, \n",
    "    pady=10)\n",
    "header.grid(row=0, column=0, sticky=W)\n",
    " \n",
    "state = StringVar()\n",
    "row = 1\n",
    "for txt, clr in states:\n",
    "    Radiobutton(\n",
    "        text=txt, \n",
    "        value=txt, \n",
    "        variable=state,\n",
    "        width=5, \n",
    "        height=1,\n",
    "        padx=20,\n",
    "        pady=10,\n",
    "        bg = clr,\n",
    "        fg = 'black',\n",
    "        font = ('Showcard Gothic', 13),\n",
    "        indicatoron=0,\n",
    "        command=command_button\n",
    "    ).grid(row=row,column = 0, columnspan = 3)\n",
    "    row += 1\n",
    "\n",
    "    \n",
    "\n",
    "sel = Label(padx=15, pady=10)\n",
    "sel.grid(row=row, sticky=W)\n",
    " \n",
    "root.mainloop()"
   ]
  }
 ],
 "metadata": {
  "kernelspec": {
   "display_name": "Python 3",
   "language": "python",
   "name": "python3"
  },
  "language_info": {
   "codemirror_mode": {
    "name": "ipython",
    "version": 3
   },
   "file_extension": ".py",
   "mimetype": "text/x-python",
   "name": "python",
   "nbconvert_exporter": "python",
   "pygments_lexer": "ipython3",
   "version": "3.7.4"
  }
 },
 "nbformat": 4,
 "nbformat_minor": 2
}
