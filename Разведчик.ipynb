{
 "cells": [
  {
   "cell_type": "code",
   "execution_count": 3,
   "metadata": {},
   "outputs": [],
   "source": [
    "from paho.mqtt.client import Client\n",
    "import time\n",
    "import socket\n",
    "import random"
   ]
  },
  {
   "cell_type": "code",
   "execution_count": 4,
   "metadata": {},
   "outputs": [],
   "source": [
    "class Sender_MQTT:\n",
    "    def on_connect ( clinet, userdata, flags, rc):\n",
    "        self.subscribe(\"flowertest\")\n",
    "    def on_message(self, client, userdata, msg):\n",
    "        global message_payload\n",
    "        if (msg.topic == 'flowertest'):\n",
    "            message_payload  = msg.payload \n",
    "            print(msg.topic+\" \"+str(msg.payload))\n",
    "    def __init__(self):\n",
    "        self.client = Client()\n",
    "        self.client.on_connect = self.on_connect\n",
    "        self.client.on_message = self.on_message\n",
    "        self.client.username_pw_set(\"njelhmbg\",\"FLLRBnPB4UiD\")\n",
    "        self.client.connect(\"hairdresser.cloudmqtt.com\", 16008,60)\n",
    "    def send(self, msg):\n",
    "        self.client.publish('flowertest', msg)"
   ]
  },
  {
   "cell_type": "code",
   "execution_count": 5,
   "metadata": {},
   "outputs": [],
   "source": [
    "class Sender_SOCKET:\n",
    "    def __init__(self):\n",
    "        pass\n",
    "    def send(self, message):\n",
    "        #self.sock.settimeout(2)\n",
    "        try:\n",
    "            self.sock = socket.create_connection(('127.0.0.1', 5001), 5)\n",
    "            self.sock.sendall(message.encode('utf8'))\n",
    "        except socket.timeout:\n",
    "            print('send data timeout')\n",
    "        except socket.error as ex:\n",
    "            print('send data error: {}'.format(ex))\n",
    "    def close():\n",
    "        self.sock.close()"
   ]
  },
  {
   "cell_type": "code",
   "execution_count": 12,
   "metadata": {},
   "outputs": [],
   "source": [
    "from tkinter import *\n",
    " \n",
    "states = [(\"ON\", 'green'), (\"OFF\", 'gray'), (\"OPEN\", 'blue'), (\"CLOSE\", 'red')]\n",
    "sender = Sender_SOCKET()\n",
    "def command_button():\n",
    "    sender.send(state.get())\n",
    "    \n",
    "root = Tk()\n",
    "root.title(\"Sending message about zombi atack\")\n",
    "root.geometry(\"500x250\")\n",
    "\n",
    "header = Label(\n",
    "    text=\"Select on of the suggested messages to send\", \n",
    "    font = ('Showcard Gothic', 13),\n",
    "    padx=15, \n",
    "    pady=10)\n",
    "header.grid(row=0, column=0, sticky=W)\n",
    " \n",
    "state = StringVar()\n",
    "row = 1\n",
    "for txt, clr in states:\n",
    "    Radiobutton(\n",
    "        text=txt, \n",
    "        value=txt, \n",
    "        variable=state,\n",
    "        width=5, \n",
    "        height=1,\n",
    "        padx=20,\n",
    "        pady=10,\n",
    "        bg = clr,\n",
    "        fg = 'black',\n",
    "        font = ('Showcard Gothic', 13),\n",
    "        indicatoron=0,\n",
    "        command=command_button\n",
    "    ).grid(row=row,column = 0, columnspan = 3)\n",
    "    row += 1\n",
    "\n",
    "    \n",
    "\n",
    "sel = Label(padx=15, pady=10)\n",
    "sel.grid(row=row, sticky=W)\n",
    " \n",
    "root.mainloop()"
   ]
  },
  {
   "cell_type": "code",
   "execution_count": 14,
   "metadata": {},
   "outputs": [],
   "source": [
    "from tkinter import *\n",
    " \n",
    "c = Canvas(width=460, height=100, bg='grey80')\n",
    "c.pack()\n",
    " \n",
    "oval = c.create_oval(30, 10, 130, 80, fill=\"orange\")\n",
    "c.create_rectangle(180, 10, 280, 80, \n",
    "                    tag=\"rect\", fill=\"lightgreen\")\n",
    "trian = c.create_polygon(330, 80, 380, 10, 430, 80,\n",
    "                    fill='white',outline=\"black\")\n",
    " \n",
    "def oval_func(event):\n",
    "     c.delete(oval)\n",
    "     c.create_text(80, 50, text=\"Круг\")\n",
    "def rect_func(event):\n",
    "     c.delete(\"rect\")\n",
    "     c.create_text(230, 50, text=\"Прямоугольник\")\n",
    "def triangle(event):\n",
    "     c.delete(trian)\n",
    "     c.create_text(380, 50, text=\"Треугольник\")\n",
    " \n",
    "c.tag_bind(oval, '<Button-1>', oval_func)\n",
    "c.tag_bind(\"rect\", '<Button-1>', rect_func)\n",
    "c.tag_bind(trian, '<Button-1>', triangle)\n",
    " \n",
    "mainloop() "
   ]
  },
  {
   "cell_type": "code",
   "execution_count": 8,
   "metadata": {},
   "outputs": [],
   "source": [
    "from tkinter import *\n",
    "root = Tk()\n",
    "c = Canvas(width=300, height=300, bg='white')\n",
    "c.focus_set()\n",
    "c.pack()\n",
    " \n",
    "ball = c.create_oval(140, 140, 160, 160, fill='green')\n",
    "c.bind('<Up>', lambda event: c.move(ball, 0, -2))\n",
    "c.bind('<Down>', lambda event: c.move(ball, 0, 2))\n",
    "c.bind('<Left>', lambda event: c.move(ball, -2, 0))\n",
    "c.bind('<Right>', lambda event: c.move(ball, 2, 0))\n",
    " \n",
    "root.mainloop()"
   ]
  }
 ],
 "metadata": {
  "kernelspec": {
   "display_name": "Python 3",
   "language": "python",
   "name": "python3"
  },
  "language_info": {
   "codemirror_mode": {
    "name": "ipython",
    "version": 3
   },
   "file_extension": ".py",
   "mimetype": "text/x-python",
   "name": "python",
   "nbconvert_exporter": "python",
   "pygments_lexer": "ipython3",
   "version": "3.7.4"
  }
 },
 "nbformat": 4,
 "nbformat_minor": 2
}
